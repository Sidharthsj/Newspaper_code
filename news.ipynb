{
 "cells": [
  {
   "cell_type": "code",
   "execution_count": 2,
   "id": "c35e3259",
   "metadata": {},
   "outputs": [
    {
     "name": "stdout",
     "output_type": "stream",
     "text": [
      "Amount: 40\n",
      "TOI,BM BM,HT Hindu,BM Hindu,HT\n"
     ]
    }
   ],
   "source": [
    "\n",
    "toi=26\n",
    "hindu=20.5\n",
    "et=34\n",
    "bm=10.5\n",
    "ht=18\n",
    "a=toi+hindu\n",
    "b=toi+et\n",
    "c=toi+et\n",
    "d=toi+bm\n",
    "e=toi+ht\n",
    "f=hindu+et\n",
    "g=hindu+bm\n",
    "h=hindu+ht\n",
    "i=et+bm\n",
    "j=et+ht\n",
    "k=bm+ht\n",
    "z=int(input(\"Amount: \"))\n",
    "if(z==40):\n",
    "    print(\"TOI,BM\",\"BM,HT\",\"Hindu,BM\",\"Hindu,HT\")\n",
    "elif(z==35):\n",
    "    print(\"BM,HT\", \"Hindu,BM\")\n",
    "else:\n",
    "    print(\" \")"
   ]
  },
  {
   "cell_type": "code",
   "execution_count": null,
   "id": "9719f192",
   "metadata": {},
   "outputs": [],
   "source": []
  }
 ],
 "metadata": {
  "kernelspec": {
   "display_name": "Python 3 (ipykernel)",
   "language": "python",
   "name": "python3"
  },
  "language_info": {
   "codemirror_mode": {
    "name": "ipython",
    "version": 3
   },
   "file_extension": ".py",
   "mimetype": "text/x-python",
   "name": "python",
   "nbconvert_exporter": "python",
   "pygments_lexer": "ipython3",
   "version": "3.9.7"
  }
 },
 "nbformat": 4,
 "nbformat_minor": 5
}
